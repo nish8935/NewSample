{
 "cells": [
  {
   "cell_type": "markdown",
   "id": "59685b39-0e35-426f-910a-6b6d4dc424a5",
   "metadata": {},
   "source": [
    "#### This is a sample repo"
   ]
  },
  {
   "cell_type": "code",
   "execution_count": null,
   "id": "de7fb2a0-ce7f-442d-938f-4502c8d98bd8",
   "metadata": {},
   "outputs": [],
   "source": [
    "print (\"Hello from the new sample repo\")"
   ]
  },
  {
   "cell_type": "code",
   "execution_count": null,
   "id": "527527f1-d318-4cb6-bc88-05fd6a685f0c",
   "metadata": {},
   "outputs": [],
   "source": [
    "print (\"Hello World!\")"
   ]
  }
 ],
 "metadata": {
  "kernelspec": {
   "display_name": "Python [conda env:base] *",
   "language": "python",
   "name": "conda-base-py"
  },
  "language_info": {
   "codemirror_mode": {
    "name": "ipython",
    "version": 3
   },
   "file_extension": ".py",
   "mimetype": "text/x-python",
   "name": "python",
   "nbconvert_exporter": "python",
   "pygments_lexer": "ipython3",
   "version": "3.12.7"
  }
 },
 "nbformat": 4,
 "nbformat_minor": 5
}
